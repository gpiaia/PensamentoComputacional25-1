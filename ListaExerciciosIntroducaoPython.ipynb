{
  "nbformat": 4,
  "nbformat_minor": 0,
  "metadata": {
    "colab": {
      "provenance": [],
      "authorship_tag": "ABX9TyNQKy4T4EGu/YXdRqGu9CcV"
    },
    "kernelspec": {
      "name": "python3",
      "display_name": "Python 3"
    },
    "language_info": {
      "name": "python"
    }
  },
  "cells": [
    {
      "cell_type": "markdown",
      "source": [
        "# Exercícios de Aula: Comandos de Entrada e Saída em Python\n",
        "\n",
        "**Disciplina:** Pensamento Computacional  \n",
        "**Curso:** Análise e Desenvolvimento de Sistemas  \n",
        "**Faculdade:** Faculdade IENH  \n",
        "**Professores:** Eduardo Isaia e Guilherme Piaia"
      ],
      "metadata": {
        "id": "XN5fZ6la8rtn"
      }
    },
    {
      "cell_type": "markdown",
      "source": [
        "## 1 - Faça em Python um algoritmo que leia um número inteiro qualquer. O algoritmo deve calcular e escrever o quadrado, a raiz quadrada, e a divisão do quadrado pela raiz quadrada do número lido.\n"
      ],
      "metadata": {
        "id": "NgxFe_RV8wut"
      }
    },
    {
      "cell_type": "code",
      "source": [
        "# Algoritmo de cáculo de quadrado, raiz quadrada e divisao do quadrado pela raiz quadrada\n",
        "\n",
        "# bibliotecas\n",
        "import math\n",
        "\n",
        "# vars\n",
        "n = 0\n",
        "quad = 0\n",
        "raiz = 0.0\n",
        "div_quad_raiz = 0.0"
      ],
      "metadata": {
        "id": "VDJFOg27CE6G"
      },
      "execution_count": null,
      "outputs": []
    },
    {
      "cell_type": "code",
      "source": [
        "# inicia a captura do inteiro\n",
        "n = int(input(\"Informe um numero inteiro qualquer:\"))\n",
        "\n",
        "# quadrado de n\n",
        "quad = n ** 2\n",
        "\n",
        "# raiz quadrada\n",
        "raiz = math.sqrt(n)\n",
        "\n",
        "# divisao do quadrado pela raiz\n",
        "div_quad_raiz = quad/raiz\n",
        "\n",
        "print(\"O quadrado de\", n, \"é\", quad, \", a raiz quadrada é\", raiz, \"e a divisao do quadrado pela raiz quadrada é\", div_quad_raiz)"
      ],
      "metadata": {
        "id": "NLbRB-s-8ri5"
      },
      "execution_count": null,
      "outputs": []
    },
    {
      "cell_type": "markdown",
      "source": [
        "## 2. Faça em Python um algoritmo que calcule e escreva o preço final de um computador, sendo fornecido o preço de fábrica. O preço final do computador é calculado com base nos adicionais de: 30 % de imposto e 10 % de revenda sobre o preço de fábrica."
      ],
      "metadata": {
        "id": "I_V781DHpz-D"
      }
    },
    {
      "cell_type": "code",
      "source": [
        "# Algoritmo que calcula e escreve o preço final de um computador baseado no preço de fábrica, acrescido de 30% de imposto e 10% de revenda.\n",
        "\n",
        "# Captura o preço de fábrica (entrada de dados)\n",
        "preco_fabrica = float(input(\"Informe o preço de fábrica do computador: \"))\n",
        "\n",
        "# Calcula o adicional de imposto (30% do preço de fábrica)\n",
        "imposto = preco_fabrica * 0.30\n",
        "\n",
        "# Calcula o adicional de revenda (10% do preço de fábrica)\n",
        "revenda = preco_fabrica * 0.10\n",
        "\n",
        "# Calcula o preço final: preço de fábrica + imposto + revenda\n",
        "preco_final = preco_fabrica + imposto + revenda\n",
        "\n",
        "# Exibe o preço final\n",
        "print(\"O preço final do computador é:\", preco_final)"
      ],
      "metadata": {
        "id": "_WWi24HprU4t"
      },
      "execution_count": null,
      "outputs": []
    },
    {
      "cell_type": "markdown",
      "source": [
        "## 3. Faça um algoritmo em Python que leia três números inteiros e calcule a sua média. Ao final, o algoritmo deve escrever os números lidos e o resultado da média."
      ],
      "metadata": {
        "id": "4gDdsA-zsK0x"
      }
    },
    {
      "cell_type": "code",
      "source": [
        "# Algoritmo para calcular a média de três números inteiros\n",
        "\n",
        "# Captura dos números inteiros\n",
        "num1 = int(input(\"Informe o primeiro número inteiro: \"))\n",
        "num2 = int(input(\"Informe o segundo número inteiro: \"))\n",
        "num3 = int(input(\"Informe o terceiro número inteiro: \"))\n",
        "\n",
        "# Cálculo da média\n",
        "media = (num1 + num2 + num3) / 3\n",
        "\n",
        "# Exibição dos números lidos e da média calculada\n",
        "print(\"Os números lidos foram:\", num1, \",\", num2, \"e\", num3)\n",
        "print(\"A média dos números é:\", media)"
      ],
      "metadata": {
        "id": "mdQVpblBsULN"
      },
      "execution_count": null,
      "outputs": []
    },
    {
      "cell_type": "markdown",
      "source": [
        "## 4. Fazer um algoritmo em Python que calcule o número de litros de combustível gastos em uma viagem, sabendo-se que o carro faz 12 km com um litro. Deverão ser lidos o tempo gasto na viagem e a velocidade média. Aplicar as seguintes fórmulas:\n",
        "## - Distância = tempo gasto x velocidade média\n",
        "### - litros gastos = distância / 12"
      ],
      "metadata": {
        "id": "J-v1_QKmsfel"
      }
    },
    {
      "cell_type": "code",
      "source": [
        "# Algoritmo para calcular o número de litros de combustível gastos em uma viagem\n",
        "\n",
        "# Entrada: tempo gasto na viagem (em horas) e a velocidade média (km/h).\n",
        "tempo = float(input(\"Informe o tempo gasto na viagem (em horas): \"))\n",
        "velocidade_media = float(input(\"Informe a velocidade média (km/h): \"))\n",
        "\n",
        "# Processamento:\n",
        "# Calcula a distância percorrida\n",
        "distancia = tempo * velocidade_media\n",
        "\n",
        "# Calcula o número de litros gastos (o carro faz 12 km/l)\n",
        "litros_gastos = distancia / 12\n",
        "\n",
        "# Saída: Exibe a distância percorrida e o número de litros gastos.\n",
        "print(\"A distância percorrida é de:\", distancia, \"km\")\n",
        "print(\"O número de litros gastos é:\", litros_gastos)"
      ],
      "metadata": {
        "id": "ovBD8GItsnbe"
      },
      "execution_count": null,
      "outputs": []
    },
    {
      "cell_type": "markdown",
      "source": [
        "## 5. Faça em Python um algoritmo que leia dois números inteiros (x e y), e calcule o quociente e o resto da divisão de x por y e escreva os resultados."
      ],
      "metadata": {
        "id": "iZPkcBWJswTs"
      }
    },
    {
      "cell_type": "code",
      "source": [
        "# Algoritmo que calcula o quociente e o resto da divisão de x por y\n",
        "\n",
        "# Entrada de dados: leitura de dois números inteiros\n",
        "x = int(input(\"Informe o valor de x: \"))\n",
        "y = int(input(\"Informe o valor de y: \"))\n",
        "\n",
        "# Cálculo do quociente e do resto utilizando os operadores // e %\n",
        "quociente = x // y\n",
        "resto = x % y\n",
        "\n",
        "# Saída: exibe o quociente e o resto\n",
        "print(\"O quociente da divisão de\", x, \"por\", y, \"é:\", quociente)\n",
        "print(\"O resto da divisão de\", x, \"por\", y, \"é:\", resto)"
      ],
      "metadata": {
        "id": "HiG43wGNsyt2"
      },
      "execution_count": null,
      "outputs": []
    },
    {
      "cell_type": "markdown",
      "source": [
        "## 6. Escreva em python um algoritmo que leia três números reais (float)(a, b, c), e calcule a média aritmética. Após os cálculos, os resultados deverão ser escritos."
      ],
      "metadata": {
        "id": "GNbBAfp4tFIB"
      }
    },
    {
      "cell_type": "code",
      "source": [
        "# Algoritmo que lê três números reais, calcula a média aritmética e exibe os resultados\n",
        "\n",
        "# Entrada de dados: leitura de três números reais\n",
        "a = float(input(\"Informe o valor de a: \"))\n",
        "b = float(input(\"Informe o valor de b: \"))\n",
        "c = float(input(\"Informe o valor de c: \"))\n",
        "\n",
        "# Cálculo da média aritmética\n",
        "media = (a + b + c) / 3\n",
        "\n",
        "# Saída: exibe os números informados e a média calculada\n",
        "print(\"Você informou os valores:\", a, \",\", b, \"e\", c)\n",
        "print(\"A média aritmética dos números é:\", media)"
      ],
      "metadata": {
        "id": "ZqTGrvjttJzd"
      },
      "execution_count": null,
      "outputs": []
    },
    {
      "cell_type": "markdown",
      "source": [
        "## 7. Uma loja de equipamentos de informática resolveu incentivar os seus funcionários a venderem no mês março. Para cada produto vendido, a loja dará uma bonificação de 1%, sobre o salário do funcionário. Desta forma, o funcionário que vender 10 produtos, terá um acréscimo de 10% em seu salário. Faça um algoritmo em Python que leia o código, o nome e o salário fixo do funcionário, além do número de produtos vendidos por ele no mês, e calcule o salário final do funcionário. Por fim, o algoritmo deve escrever o código e o nome do funcionário, juntamente com o seu salário final."
      ],
      "metadata": {
        "id": "KiTYXlmYtjU8"
      }
    },
    {
      "cell_type": "code",
      "source": [
        "# Algoritmo para calcular o salário final do funcionário com bônus fixo de 10%\n",
        "# se ele vender exatamente 10 produtos.\n",
        "\n",
        "# Entrada de dados: código, nome, salário fixo e número de produtos vendidos\n",
        "codigo = input(\"Informe o código do funcionário: \")\n",
        "nome = input(\"Informe o nome do funcionário: \")\n",
        "salario_fixo = float(input(\"Informe o salário fixo do funcionário: \"))\n",
        "produtos_vendidos = int(input(\"Informe o número de produtos vendidos no mês: \"))\n",
        "bonus = 0.01\n",
        "\n",
        "# Verifica se foram vendidos exatamente 10 produtos para conceder o bônus de 10%\n",
        "if produtos_vendidos >= 10:\n",
        "    bonus_10 = 0.10\n",
        "else:\n",
        "    bonus_10 = 0.0\n",
        "\n",
        "# Cálculo do salário final: salário fixo + bonus/produto + bônus 10(se aplicável)\n",
        "salario_final = salario_fixo*(1 + bonus*produtos_vendidos + bonus_10)\n",
        "\n",
        "# Saída: exibe o código, nome e o salário final do funcionário\n",
        "print(\"\\nCódigo:\", codigo)\n",
        "print(\"Nome:\", nome)\n",
        "print(\"Salário final: R$\", round(salario_final, 2))"
      ],
      "metadata": {
        "colab": {
          "base_uri": "https://localhost:8080/"
        },
        "id": "9y3vJOQ9tmSV",
        "outputId": "df10fc05-06bc-46c8-e469-a47cd41f052f"
      },
      "execution_count": null,
      "outputs": [
        {
          "output_type": "stream",
          "name": "stdout",
          "text": [
            "Informe o código do funcionário: 1234\n",
            "Informe o nome do funcionário: Manoel\n",
            "Informe o salário fixo do funcionário: 2800\n",
            "Informe o número de produtos vendidos no mês: 9\n",
            "\n",
            "Código: 1234\n",
            "Nome: Manoel\n",
            "Salário final: R$ 3052.0\n"
          ]
        }
      ]
    },
    {
      "cell_type": "markdown",
      "source": [
        "## 8. Construa um algoritmo em Python que calcule a quantidade de latas de tintas necessárias e o custo para pintar tanques cilíndricos de combustível, onde são fornecidos a altura e o raio deste cilindro. Sabendo que:\n",
        "### ● a lata de tinta custa R$ 150,00\n",
        "### ● cada lata contém 5 litros;\n",
        "### ● cada litro de tinta pinta 3 metros quadrados;\n",
        "### ● a área do total cilindro é dada por área da base + área lateral;\n",
        "### ● a área da base do cilindro é dada π*raioˆ2\n",
        "### ● a área da lateral é 2*π*raio*altura.\n",
        "### ● Lembrando que π (pi) vale 3,14."
      ],
      "metadata": {
        "id": "cQRlesMbxL8X"
      }
    },
    {
      "cell_type": "code",
      "source": [
        "# Algoritmo que calcula a quantidade necesária de tinta para pintar tanques cilíndricos\n",
        "\n",
        "# Entrada de dados: altura e raio do cilindro\n",
        "altura = float(input(\"Informe a altura do tanque (em metros): \"))\n",
        "raio = float(input(\"Informe o raio do tanque (em metros): \"))\n",
        "\n",
        "# Constantes:\n",
        "pi = 3.14\n",
        "custo_lata = 150.00\n",
        "litros_por_lata = 5\n",
        "area_pintada_por_litro = 3  # em metros quadrados por litro\n",
        "\n",
        "# Cálculo das áreas:\n",
        "# Área da base (conforme enunciado, considera-se somente uma base):\n",
        "area_base = pi * (raio ** 2)\n",
        "# Área lateral:\n",
        "area_lateral = 2 * pi * raio * altura\n",
        "# Área total:\n",
        "area_total = area_base + area_lateral\n",
        "\n",
        "# Cálculo dos litros necessários:\n",
        "litros_necessarios = area_total / area_pintada_por_litro\n",
        "\n",
        "# Cálculo das latas necessárias (arredondando para cima, pois não se pode comprar parte de uma lata)\n",
        "if (litros_necessarios % litros_por_lata) == 0:\n",
        "    latas_necessarias = litros_necessarios // litros_por_lata\n",
        "else:\n",
        "    latas_necessarias = litros_necessarios // litros_por_lata + 1\n",
        "# ou\n",
        "# latas_necessarias = math.ceil(litros_necessarios / litros_por_lata)\n",
        "\n",
        "# Cálculo do custo:\n",
        "custo_total = latas_necessarias * custo_lata\n",
        "\n",
        "# Saída dos resultados:\n",
        "print(\"Área total a ser pintada:\", round(area_total, 2), \"m²\")\n",
        "print(\"Litros de tinta necessários:\", round(litros_necessarios, 2))\n",
        "print(\"Latas de tinta necessárias:\", latas_necessarias)\n",
        "print(\"Custo total: R$\", round(custo_total, 2))"
      ],
      "metadata": {
        "colab": {
          "base_uri": "https://localhost:8080/"
        },
        "id": "MmCOFekTxdPI",
        "outputId": "142bf31f-a8a7-442a-9ce2-83ac685d51d8"
      },
      "execution_count": null,
      "outputs": [
        {
          "output_type": "stream",
          "name": "stdout",
          "text": [
            "Informe a altura do tanque (em metros): 12\n",
            "Informe o raio do tanque (em metros): 2.5\n",
            "Área total a ser pintada: 208.03 m²\n",
            "Litros de tinta necessários: 69.34\n",
            "Latas de tinta necessárias: 14.0\n",
            "Custo total: R$ 2100.0\n"
          ]
        }
      ]
    },
    {
      "cell_type": "markdown",
      "source": [
        "## 9. Elabore um algoritmo em Python para calcular e escrever o preço final de um computador, sendo fornecido o preço de fábrica. O preço final do computador é calculado com base nos adicionais 45 % de imposto e 28 % de revenda sobre o preço de fábrica."
      ],
      "metadata": {
        "id": "4iVN0vGo45dB"
      }
    },
    {
      "cell_type": "code",
      "source": [
        "# Algoritmo para calcular o preço final de um computador\n",
        "\n",
        "# Entrada de dados: preço de fábrica\n",
        "preco_fabrica = float(input(\"Informe o preço de fábrica do computador: \"))\n",
        "\n",
        "# Cálculo dos adicionais:\n",
        "imposto = preco_fabrica * 0.45  # 45% de imposto\n",
        "revenda = preco_fabrica * 0.28   # 28% de revenda\n",
        "\n",
        "# Cálculo do preço final\n",
        "preco_final = preco_fabrica + imposto + revenda\n",
        "\n",
        "# Saída: imprime o preço final do computador\n",
        "print(\"O preço final do computador é: R$\", round(preco_final, 2))"
      ],
      "metadata": {
        "id": "iiGpanmX48or"
      },
      "execution_count": null,
      "outputs": []
    },
    {
      "cell_type": "markdown",
      "source": [
        "## 10. Uma revendedora de carros usados paga aos seus funcionários vendedores, um salário fixo por mês, mais uma comissão para cada carro vendido. Escreva um algoritmo em Python que leia o número do vendedor, o seu salário fixo, o número de carros por ele vendidos, e o valor que recebe por carro vendido, e calcule o salário mensal do vendedor, escrevendo-o juntamente com o seu número de identificação."
      ],
      "metadata": {
        "id": "-8X6kuJ-5N0n"
      }
    },
    {
      "cell_type": "code",
      "source": [
        "# Algoritmo para calcular o salário mensal do vendedor\n",
        "\n",
        "# Entrada de dados:\n",
        "numero_vendedor = int(input(\"Informe o número do vendedor: \"))\n",
        "salario_fixo = float(input(\"Informe o salário fixo do vendedor: \"))\n",
        "carros_vendidos = int(input(\"Informe o número de carros vendidos pelo vendedor: \"))\n",
        "valor_comissao = float(input(\"Informe o valor da comissão por carro vendido: \"))\n",
        "\n",
        "# Cálculo do salário mensal:\n",
        "salario_mensal = salario_fixo + (carros_vendidos * valor_comissao)\n",
        "\n",
        "# Saída: exibe o número do vendedor e o seu salário mensal\n",
        "print(\"Número do vendedor:\", numero_vendedor)\n",
        "print(\"Salário mensal do vendedor: R$\", round(salario_mensal, 2))"
      ],
      "metadata": {
        "id": "aKVE4vnu5VDG"
      },
      "execution_count": null,
      "outputs": []
    },
    {
      "cell_type": "markdown",
      "source": [
        "## 11. Uma empresa, para emitir a sua folha de pagamento mensal, trabalha com os seguintes dados:\n",
        "## Relativos ao Sistema de Pagamentos\n",
        "\n",
        " Valor da Hora Normal = R$ 8,00\n",
        "\n",
        " Valor da Hora Extra = R$ 9,50\n",
        "\n",
        " Valor do Acréscimo por Dependente = RS 2,50\n",
        "\n",
        "## Relativos a cada Funcionário\n",
        "\n",
        " Número de Identificação\n",
        "\n",
        " Nome\n",
        "\n",
        " Número de horas normais trabalhadas\n",
        "\n",
        " Número de horas extras trabalhadas\n",
        "\n",
        " Número de dependentes\n",
        "\n",
        "# O cálculo do salário de cada funcionário é feito em 3 etapas:\n",
        "\n",
        "Etapa 1 : Cálculo do Salário Bruto\n",
        "\n",
        "SALARIO BRUTO = Valor Total de Horas Normais + Valor Total de Horas Extras + Valor Total de\n",
        "Dependentes\n",
        "\n",
        "Etapa 2 : Descontos\n",
        "\n",
        "Todos os funcionários são isentos de imposto de renda, e descontam 5% do salário bruto para o INSS.\n",
        "\n",
        "Etapa 3 : Salário Líquido\n",
        "\n",
        "SALARIO LÍQUIDO = SALARIO BRUTO - DESCONTO\n",
        "\n",
        "Escrever um algoritmo em Python que leia os dados referentes ao funcionário, calcule e escreva o salário líquido do funcionário da empresa. Obs.: Além do salário líquido, escreva o número de identificação e o nome do funcionário."
      ],
      "metadata": {
        "id": "VIaW7NR95kMU"
      }
    },
    {
      "cell_type": "code",
      "source": [
        "# Algoritmo para calcular o salário líquido de um funcionário\n",
        "\n",
        "# Entrada de dados:\n",
        "numero_id = input(\"Informe o número de identificação do funcionário: \")\n",
        "nome = input(\"Informe o nome do funcionário: \")\n",
        "horas_normais = float(input(\"Informe o número de horas normais trabalhadas: \"))\n",
        "horas_extras = float(input(\"Informe o número de horas extras trabalhadas: \"))\n",
        "num_dependentes = int(input(\"Informe o número de dependentes: \"))\n",
        "\n",
        "# Constantes\n",
        "valor_hora_normal = 8.00\n",
        "valor_hora_extra = 9.50\n",
        "valor_dependente = 2.50\n",
        "taxa_INSS = 0.05\n",
        "\n",
        "# Etapa 1: Cálculo do Salário Bruto\n",
        "salario_bruto = (horas_normais * valor_hora_normal) + (horas_extras * valor_hora_extra) + (num_dependentes * valor_dependente)\n",
        "\n",
        "# Etapa 2: Cálculo do desconto do INSS (5% do salário bruto)\n",
        "desconto_INSS = salario_bruto * taxa_INSS\n",
        "\n",
        "# Etapa 3: Cálculo do Salário Líquido\n",
        "salario_liquido = salario_bruto - desconto_INSS\n",
        "\n",
        "# Saída: exibe o número de identificação, nome do funcionário e o salário líquido\n",
        "print(\"\\nNúmero de Identificação:\", numero_id)\n",
        "print(\"Nome:\", nome)\n",
        "print(\"Salário Líquido: R$\", round(salario_liquido, 2))"
      ],
      "metadata": {
        "id": "gHmumnBm6ojQ"
      },
      "execution_count": null,
      "outputs": []
    },
    {
      "cell_type": "markdown",
      "source": [],
      "metadata": {
        "id": "VBh13QA58gnO"
      }
    }
  ]
}
